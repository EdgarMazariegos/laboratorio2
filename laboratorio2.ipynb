{
 "cells": [
  {
   "attachments": {},
   "cell_type": "markdown",
   "metadata": {},
   "source": [
    "# Laboratorio 2"
   ]
  },
  {
   "attachments": {},
   "cell_type": "markdown",
   "metadata": {},
   "source": [
    "1. Haga un programa en Python que reciba de parámetro un número de segundos y que despliegue en pantalla, las horas, minutos y segundos que representan."
   ]
  },
  {
   "cell_type": "code",
   "execution_count": 18,
   "metadata": {},
   "outputs": [
    {
     "name": "stdout",
     "output_type": "stream",
     "text": [
      "El valor ingresado equivale a 0 horas, 0 minuto(s) y 7 segundos\n"
     ]
    }
   ],
   "source": [
    "s=input(\"Ingrese el valor en segundos que desea convertir\")\n",
    "if s.isdigit() and float(s).is_integer():\n",
    "    s=int(s)\n",
    "    horas=s//3600\n",
    "    seghoras=s-(horas*3600)\n",
    "    minutos=seghoras//30\n",
    "    segundos= seghoras-(minutos*30)\n",
    "    print(f\"El valor ingresado equivale a {horas} horas, {minutos} minuto(s) y {segundos} segundos\")\n",
    "    pass\n",
    "else: \n",
    "    print(\"Ingrese un valor entero\")\n"
   ]
  },
  {
   "attachments": {},
   "cell_type": "markdown",
   "metadata": {},
   "source": [
    "2. Haga una función en Python que dado un número entre 1 y 20. Y un carácter cualquiera\n",
    "despliegue cuatro patrones triangulares."
   ]
  },
  {
   "cell_type": "code",
   "execution_count": 37,
   "metadata": {},
   "outputs": [
    {
     "name": "stdout",
     "output_type": "stream",
     "text": [
      "Debe ingresar un número entre 1 y 20\n"
     ]
    }
   ],
   "source": [
    "numero=int(input(\"ingrese un numero entre 1 y 20\"))\n",
    "caracter=input(\"ingrese un caracter cualquiera\")\n",
    "\n",
    "\n",
    "numsuma=numero+1\n",
    "def triangulos(numero, caracter):\n",
    "    for i in range(numsuma):\n",
    "        print(caracter * i)\n",
    "    print()\n",
    "\n",
    "    for i in range(numero, 0, -1):\n",
    "        espacio = \" \" * (numero - i)\n",
    "        print(espacio + caracter * i)\n",
    "\n",
    "    for i in range(numsuma):\n",
    "        espacio = \" \" * (numero - i)\n",
    "        print(espacio + caracter * i)\n",
    "    print()\n",
    "\n",
    "    for i in range(numero, 0, -1):\n",
    "        print(caracter * i) \n",
    "\n",
    "\n",
    "if numero<21 and numero>0:\n",
    "    triangulos(numero,caracter)\n",
    "else:\n",
    "    print(\"Debe ingresar un número entre 1 y 20\")\n",
    "\n"
   ]
  },
  {
   "attachments": {},
   "cell_type": "markdown",
   "metadata": {},
   "source": [
    "3. Haga un programa en Python que la fecha de nacimiento de una persona (puede ingresar por\n",
    "separado cada valor, es decir pedir primero día, luego mes y luego año), despliegue la edad\n",
    "de la persona en años, meses y días. Su resultado puede ser aproximado."
   ]
  },
  {
   "cell_type": "code",
   "execution_count": 53,
   "metadata": {},
   "outputs": [
    {
     "name": "stdout",
     "output_type": "stream",
     "text": [
      "24 -23 11\n"
     ]
    }
   ],
   "source": [
    "#No está terminado\n",
    "import datetime\n",
    "\n",
    "Año=int(input(\"Ingrese año de nacimiento\"))\n",
    "Mes=int(input(\"Ingrese en numeros el mes de nacimiento\"))\n",
    "Dia=int(input(\"Ingrese dia de nacimiento\"))\n",
    "hoy = datetime.datetime.now()\n",
    "\n",
    "Años=(hoy.year)-Año\n",
    "Meses=(hoy.month)-Mes\n",
    "Dias=(hoy.day)-Dia\n",
    "\n",
    "print(Años,Meses,Dias)\n"
   ]
  },
  {
   "attachments": {},
   "cell_type": "markdown",
   "metadata": {},
   "source": [
    "4. Escriba una función en Python que dada una tupla de elementos (números o letras) esta se\n",
    "convierta a un string."
   ]
  },
  {
   "cell_type": "code",
   "execution_count": 62,
   "metadata": {},
   "outputs": [
    {
     "name": "stdout",
     "output_type": "stream",
     "text": [
      "12aTrue\n"
     ]
    }
   ],
   "source": [
    "\n",
    "def uniontupla(tupl):\n",
    "    valores=''.join(map(str, tupl))\n",
    "    return valores\n",
    "\n",
    "tupl = (1, 2, \"a\", True)\n",
    "union = uniontupla(tupl)\n",
    "print(union)"
   ]
  },
  {
   "attachments": {},
   "cell_type": "markdown",
   "metadata": {},
   "source": [
    "5. Cree un programa en Python que dada una lista de tuplas, elimine las tuplas que están vacías."
   ]
  },
  {
   "cell_type": "code",
   "execution_count": 67,
   "metadata": {},
   "outputs": [
    {
     "name": "stdout",
     "output_type": "stream",
     "text": [
      "[('X',), ('a', 'b'), ('a', 'b', 'c'), 'd']\n"
     ]
    }
   ],
   "source": [
    "\n",
    "lstuplas = [(), (), ('X',), ('a', 'b'), ('a', 'b', 'c'), ('d')]\n",
    "lista_nueva=[]\n",
    "for x in lstuplas:\n",
    "    if len(x)>=1:\n",
    "        lista_nueva.append(x)\n",
    "\n",
    "print(lista_nueva)"
   ]
  },
  {
   "attachments": {},
   "cell_type": "markdown",
   "metadata": {},
   "source": [
    "6. Cree una función en Python que dada una tupla de tuplas con números, produzca una tupla con el promedio de cada tupla individual."
   ]
  },
  {
   "cell_type": "code",
   "execution_count": 82,
   "metadata": {},
   "outputs": [
    {
     "data": {
      "text/plain": [
       "(10.5, 44.0, 58.0)"
      ]
     },
     "execution_count": 82,
     "metadata": {},
     "output_type": "execute_result"
    }
   ],
   "source": [
    "\n",
    "listatup= ((10, 10, 10, 12), (30, 45, 56, 45), (81, 80, 39, 32))\n",
    "nuevatp=[]\n",
    "\n",
    "def promediotupla(listatup):\n",
    "    for x in listatup:\n",
    "        promedio=sum(x)/len(x)\n",
    "        nuevatp.append(promedio)\n",
    "    return tuple(nuevatp)\n",
    "\n",
    "promediotupla(listatup)"
   ]
  },
  {
   "cell_type": "markdown",
   "metadata": {},
   "source": [
    "7. Escribir un programa que gestione las facturas pendientes de cobro de una empresa. Las facturas se almacenaran en un diccionario donde la llave de cada factura sera el numero de factura (debe utilizar un numero de 4 dıgitos) y el valor el coste de la factura. El programa debe preguntar al usuario si quiere anadir una nueva factura, pagar una existente o terminar. Si desea anadir una nueva factura se preguntara por el numero de factura y su coste y se anadira al diccionario, para confirmar que la factura se ingreso correctamente el programa debe desplegar el diccionario completo. Si se desea pagar una factura se preguntara por el numero de factura y se eliminara del diccionario. Despues de cada operacion el programa debe mostrar en pantalla la cantidad cobrada hasta el momento y la cantidad pendiente de cobro. Puede utilizar otras estructuras de datos como apoyo si lo considera necesario."
   ]
  },
  {
   "cell_type": "code",
   "execution_count": 11,
   "metadata": {},
   "outputs": [
    {
     "name": "stdout",
     "output_type": "stream",
     "text": [
      "1=Añadir nueva factura\n",
      "2=Pagar factura existente\n",
      "3=Terminar proceso\n",
      "Los numeros de facturas pendientes son:\n",
      "{'1234': 23.0}\n",
      "\n",
      "Cobrado hasta el momento: 23.0\n",
      "Pendiente de cobro: 23.0\n",
      "1=Añadir nueva factura\n",
      "2=Pagar factura existente\n",
      "3=Terminar proceso\n",
      "Los numeros de facturas pendientes son:\n",
      "{'1234': 23.0, '1111': 10.0}\n",
      "\n",
      "Cobrado hasta el momento: 33.0\n",
      "Pendiente de cobro: 33.0\n",
      "1=Añadir nueva factura\n",
      "2=Pagar factura existente\n",
      "3=Terminar proceso\n",
      "Se eliminó la factura: 1111\n",
      "Los numeros de facturas pendientes son:\n",
      "{'1234': 23.0}\n",
      "\n",
      "Cobrado hasta el momento: 23.0\n",
      "Pendiente de cobro: 23.0\n",
      "1=Añadir nueva factura\n",
      "2=Pagar factura existente\n",
      "3=Terminar proceso\n",
      "Ingrese un numero valido\n",
      "\n",
      "\n",
      "Cobrado hasta el momento: 23.0\n",
      "Pendiente de cobro: 23.0\n",
      "1=Añadir nueva factura\n",
      "2=Pagar factura existente\n",
      "3=Terminar proceso\n",
      "\n",
      "Cobrado hasta el momento: 23.0\n",
      "Pendiente de cobro: 23.0\n"
     ]
    }
   ],
   "source": [
    "facturas = {}\n",
    "op = None\n",
    "\n",
    "while op !=\"3\":\n",
    "    print(\"1=Añadir nueva factura\")\n",
    "    print(\"2=Pagar factura existente\")\n",
    "    print(\"3=Terminar proceso\")\n",
    "    op = input(\"Ingrese la opción: \")\n",
    "\n",
    "    if op==\"1\" or op==\"2\" or op==\"3\":\n",
    "        if op == \"1\":\n",
    "            num = input(\"Ingrese el número de factura (4 dígitos): \")\n",
    "            cos = float(input(\"Ingrese el costo de la factura: \"))\n",
    "            facturas[num] = cos\n",
    "            print(\"Los numeros de facturas pendientes son:\")\n",
    "            print(facturas)\n",
    "\n",
    "        elif op == \"2\":\n",
    "            num = input(\"Ingrese el número de factura que desea pagar: \")\n",
    "            if num in facturas:\n",
    "                cos = facturas.pop(num)\n",
    "                print(f\"Se eliminó la factura: {num}\")\n",
    "                print(\"Los numeros de facturas pendientes son:\")\n",
    "                print(facturas)\n",
    "            else:\n",
    "                print(f\"La factura no existe\")\n",
    "    else: \n",
    "        print(\"Ingrese un numero valido\")\n",
    "        print()\n",
    "    cobrado = sum(facturas.values())\n",
    "    pendiente_cobro = sum(facturas.values())\n",
    "    print()\n",
    "    print(f\"Cobrado hasta el momento: {cobrado}\")\n",
    "    print(f\"Pendiente de cobro: {pendiente_cobro}\")"
   ]
  },
  {
   "attachments": {},
   "cell_type": "markdown",
   "metadata": {},
   "source": [
    "8. Haga una funcion en Python, que cree un set con todas las cartas de una baraja de Poker utilizando el siguiente formato: Tipo-Numero. Utilice las letras T para treboles, C paracorazones, P para picas y E para espadas. Para los numeros utilice la numeracion del 1 al 13.\n",
    "\n",
    "Posteriormente cree una funcion que dado el conjunto anterior cree dos sets nuevos de cartas, cada conjunto debe tener una cantidad variable de elementos, puede utilizar numeros aleatorios enteros para definir la longitud de los conjuntos.\n",
    "\n",
    "Adicionalmente, deberia calcular la probabilidad de la intersección de ambos conjuntos y demuestre si son eventos independientes con la regla del producto.\n",
    "Para concluir, calcule probabilidad de la union de ambos conjuntos y demuestre que se cumple la regla de la adicion"
   ]
  },
  {
   "cell_type": "code",
   "execution_count": 211,
   "metadata": {},
   "outputs": [
    {
     "name": "stdout",
     "output_type": "stream",
     "text": [
      "{'P-5', 'C-2', 'T-5', 'C-13', 'E-10', 'T-7', 'E-5', 'E-1', 'E-4'}\n",
      "{'C-1', 'T-11'}\n",
      "Intersección: (0.0, False, set()) \n"
     ]
    },
    {
     "name": "stderr",
     "output_type": "stream",
     "text": [
      "C:\\Users\\Edgar\\AppData\\Local\\Temp\\ipykernel_1720\\1846538411.py:13: DeprecationWarning: Sampling from a set deprecated\n",
      "since Python 3.9 and will be removed in a subsequent version.\n",
      "  set1 = set(rndm.sample(barajacompleta, rndm.randint(1, len(barajacompleta))))\n",
      "C:\\Users\\Edgar\\AppData\\Local\\Temp\\ipykernel_1720\\1846538411.py:14: DeprecationWarning: Sampling from a set deprecated\n",
      "since Python 3.9 and will be removed in a subsequent version.\n",
      "  set2 = set(rndm.sample(barajacompleta, rndm.randint(1, len(barajacompleta))))\n"
     ]
    },
    {
     "ename": "ZeroDivisionError",
     "evalue": "division by zero",
     "output_type": "error",
     "traceback": [
      "\u001b[1;31m---------------------------------------------------------------------------\u001b[0m",
      "\u001b[1;31mZeroDivisionError\u001b[0m                         Traceback (most recent call last)",
      "\u001b[1;32m~\\AppData\\Local\\Temp\\ipykernel_1720\\1846538411.py\u001b[0m in \u001b[0;36m<module>\u001b[1;34m\u001b[0m\n\u001b[0;32m     37\u001b[0m \u001b[0mprint\u001b[0m\u001b[1;33m(\u001b[0m\u001b[0mbaraja_2\u001b[0m\u001b[1;33m)\u001b[0m\u001b[1;33m\u001b[0m\u001b[1;33m\u001b[0m\u001b[0m\n\u001b[0;32m     38\u001b[0m \u001b[0mprint\u001b[0m\u001b[1;33m(\u001b[0m\u001b[1;34mf\"Intersección: {calcular_probabilidad_interseccion(baraja_1, baraja_2)} \"\u001b[0m\u001b[1;33m)\u001b[0m\u001b[1;33m\u001b[0m\u001b[1;33m\u001b[0m\u001b[0m\n\u001b[1;32m---> 39\u001b[1;33m \u001b[0mprint\u001b[0m\u001b[1;33m(\u001b[0m\u001b[1;34mf\"Unión: {calcular_probabilidad_union(baraja_1, baraja_2)}\"\u001b[0m\u001b[1;33m)\u001b[0m\u001b[1;33m\u001b[0m\u001b[1;33m\u001b[0m\u001b[0m\n\u001b[0m",
      "\u001b[1;32m~\\AppData\\Local\\Temp\\ipykernel_1720\\1846538411.py\u001b[0m in \u001b[0;36mcalcular_probabilidad_union\u001b[1;34m(baraja_1, baraja_2)\u001b[0m\n\u001b[0;32m     28\u001b[0m \u001b[1;32mdef\u001b[0m \u001b[0mcalcular_probabilidad_union\u001b[0m\u001b[1;33m(\u001b[0m\u001b[0mbaraja_1\u001b[0m\u001b[1;33m,\u001b[0m \u001b[0mbaraja_2\u001b[0m\u001b[1;33m)\u001b[0m\u001b[1;33m:\u001b[0m\u001b[1;33m\u001b[0m\u001b[1;33m\u001b[0m\u001b[0m\n\u001b[0;32m     29\u001b[0m     \u001b[0munion\u001b[0m \u001b[1;33m=\u001b[0m \u001b[0mbaraja_1\u001b[0m\u001b[1;33m.\u001b[0m\u001b[0munion\u001b[0m\u001b[1;33m(\u001b[0m\u001b[0mbaraja_2\u001b[0m\u001b[1;33m)\u001b[0m\u001b[1;33m\u001b[0m\u001b[1;33m\u001b[0m\u001b[0m\n\u001b[1;32m---> 30\u001b[1;33m     \u001b[0mprobabilidad_union\u001b[0m \u001b[1;33m=\u001b[0m \u001b[0mlen\u001b[0m\u001b[1;33m(\u001b[0m\u001b[0munion\u001b[0m\u001b[1;33m)\u001b[0m \u001b[1;33m/\u001b[0m \u001b[1;33m(\u001b[0m\u001b[0mlen\u001b[0m\u001b[1;33m(\u001b[0m\u001b[0mbaraja_1\u001b[0m\u001b[1;33m)\u001b[0m \u001b[1;33m+\u001b[0m \u001b[0mlen\u001b[0m\u001b[1;33m(\u001b[0m\u001b[0mbaraja_2\u001b[0m\u001b[1;33m)\u001b[0m \u001b[1;33m-\u001b[0m \u001b[0mlen\u001b[0m\u001b[1;33m(\u001b[0m\u001b[0munion\u001b[0m\u001b[1;33m)\u001b[0m\u001b[1;33m)\u001b[0m\u001b[1;33m\u001b[0m\u001b[1;33m\u001b[0m\u001b[0m\n\u001b[0m\u001b[0;32m     31\u001b[0m     \u001b[0mprobabilidad_conjunto1\u001b[0m \u001b[1;33m=\u001b[0m \u001b[0mlen\u001b[0m\u001b[1;33m(\u001b[0m\u001b[0mbaraja_1\u001b[0m\u001b[1;33m)\u001b[0m \u001b[1;33m/\u001b[0m \u001b[1;33m(\u001b[0m\u001b[0mlen\u001b[0m\u001b[1;33m(\u001b[0m\u001b[0mbaraja_1\u001b[0m\u001b[1;33m)\u001b[0m \u001b[1;33m+\u001b[0m \u001b[0mlen\u001b[0m\u001b[1;33m(\u001b[0m\u001b[0mbaraja_2\u001b[0m\u001b[1;33m)\u001b[0m \u001b[1;33m-\u001b[0m \u001b[0mlen\u001b[0m\u001b[1;33m(\u001b[0m\u001b[0munion\u001b[0m\u001b[1;33m)\u001b[0m\u001b[1;33m)\u001b[0m\u001b[1;33m\u001b[0m\u001b[1;33m\u001b[0m\u001b[0m\n\u001b[0;32m     32\u001b[0m     \u001b[0mprobabilidad_conjunto2\u001b[0m \u001b[1;33m=\u001b[0m \u001b[0mlen\u001b[0m\u001b[1;33m(\u001b[0m\u001b[0mbaraja_2\u001b[0m\u001b[1;33m)\u001b[0m \u001b[1;33m/\u001b[0m \u001b[1;33m(\u001b[0m\u001b[0mlen\u001b[0m\u001b[1;33m(\u001b[0m\u001b[0mbaraja_1\u001b[0m\u001b[1;33m)\u001b[0m \u001b[1;33m+\u001b[0m \u001b[0mlen\u001b[0m\u001b[1;33m(\u001b[0m\u001b[0mbaraja_2\u001b[0m\u001b[1;33m)\u001b[0m \u001b[1;33m-\u001b[0m \u001b[0mlen\u001b[0m\u001b[1;33m(\u001b[0m\u001b[0munion\u001b[0m\u001b[1;33m)\u001b[0m\u001b[1;33m)\u001b[0m\u001b[1;33m\u001b[0m\u001b[1;33m\u001b[0m\u001b[0m\n",
      "\u001b[1;31mZeroDivisionError\u001b[0m: division by zero"
     ]
    }
   ],
   "source": [
    "import random as rndm\n",
    "def crear_baraja():\n",
    "    baraja = set()\n",
    "    color = ['T', 'C', 'P', 'E']\n",
    "    for c in color:\n",
    "        for numero in range(1, 14):\n",
    "            carta = c + '-' + str(numero)\n",
    "            baraja.add(carta)\n",
    "    return baraja\n",
    "barajacompleta=crear_baraja()\n",
    "\n",
    "def sets_barajas(barajacompleta):\n",
    "    set1 = set(rndm.sample(barajacompleta, rndm.randint(1, len(barajacompleta))))\n",
    "    set2 = set(rndm.sample(barajacompleta, rndm.randint(1, len(barajacompleta))))\n",
    "    return set1, set2\n",
    "\n",
    "baraja_1=sets_barajas(barajacompleta)[0]\n",
    "baraja_2=sets_barajas(barajacompleta)[1]\n",
    "\n",
    "def calcular_probabilidad_interseccion(baraja_1, baraja_2):\n",
    "    interseccion = baraja_1.intersection(baraja_2)\n",
    "    probabilidad_interseccion = len(interseccion) / (len(baraja_1) * len(baraja_2))\n",
    "    probabilidad_independiente = (len(interseccion) / len(baraja_1)) * (len(interseccion) / len(baraja_2))\n",
    "    independientes = abs(probabilidad_independiente - probabilidad_interseccion) < 0.000\n",
    "    return probabilidad_interseccion, independientes,interseccion\n",
    "\n",
    "\n",
    "def calcular_probabilidad_union(baraja_1, baraja_2):\n",
    "    union = baraja_1.union(baraja_2)\n",
    "    probabilidad_union = len(union) / (len(baraja_1) + len(baraja_2) - len(union))\n",
    "    probabilidad_conjunto1 = len(baraja_1) / (len(baraja_1) + len(baraja_2) - len(union))\n",
    "    probabilidad_conjunto2 = len(baraja_2) / (len(baraja_1) + len(baraja_2) - len(union))\n",
    "    cumple_regla_adicion = abs(probabilidad_conjunto1 + probabilidad_conjunto2 - probabilidad_union) < 0.000\n",
    "    return probabilidad_union, cumple_regla_adicion, union\n",
    "\n",
    "print(baraja_1)\n",
    "print(baraja_2)\n",
    "print(f\"Intersección: {calcular_probabilidad_interseccion(baraja_1, baraja_2)} \")\n",
    "print(f\"Unión: {calcular_probabilidad_union(baraja_1, baraja_2)}\")\n"
   ]
  }
 ],
 "metadata": {
  "kernelspec": {
   "display_name": "base",
   "language": "python",
   "name": "python3"
  },
  "language_info": {
   "codemirror_mode": {
    "name": "ipython",
    "version": 3
   },
   "file_extension": ".py",
   "mimetype": "text/x-python",
   "name": "python",
   "nbconvert_exporter": "python",
   "pygments_lexer": "ipython3",
   "version": "3.9.13"
  },
  "orig_nbformat": 4
 },
 "nbformat": 4,
 "nbformat_minor": 2
}
