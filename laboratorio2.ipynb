{
 "cells": [
  {
   "attachments": {},
   "cell_type": "markdown",
   "metadata": {},
   "source": [
    "# Laboratorio 2"
   ]
  },
  {
   "attachments": {},
   "cell_type": "markdown",
   "metadata": {},
   "source": [
    "1. Haga un programa en Python que reciba de parámetro un número de segundos y que despliegue en pantalla, las horas, minutos y segundos que representan."
   ]
  },
  {
   "cell_type": "code",
   "execution_count": 18,
   "metadata": {},
   "outputs": [
    {
     "name": "stdout",
     "output_type": "stream",
     "text": [
      "El valor ingresado equivale a 0 horas, 0 minuto(s) y 7 segundos\n"
     ]
    }
   ],
   "source": [
    "s=input(\"Ingrese el valor en segundos que desea convertir\")\n",
    "if s.isdigit() and float(s).is_integer():\n",
    "    s=int(s)\n",
    "    horas=s//3600\n",
    "    seghoras=s-(horas*3600)\n",
    "    minutos=seghoras//30\n",
    "    segundos= seghoras-(minutos*30)\n",
    "    print(f\"El valor ingresado equivale a {horas} horas, {minutos} minuto(s) y {segundos} segundos\")\n",
    "    pass\n",
    "else: \n",
    "    print(\"Ingrese un valor entero\")\n"
   ]
  },
  {
   "attachments": {},
   "cell_type": "markdown",
   "metadata": {},
   "source": [
    "2. Haga una función en Python que dado un número entre 1 y 20. Y un carácter cualquiera\n",
    "despliegue cuatro patrones triangulares."
   ]
  },
  {
   "cell_type": "code",
   "execution_count": 37,
   "metadata": {},
   "outputs": [
    {
     "name": "stdout",
     "output_type": "stream",
     "text": [
      "Debe ingresar un número entre 1 y 20\n"
     ]
    }
   ],
   "source": [
    "numero=int(input(\"ingrese un numero entre 1 y 20\"))\n",
    "caracter=input(\"ingrese un caracter cualquiera\")\n",
    "\n",
    "\n",
    "numsuma=numero+1\n",
    "def triangulos(numero, caracter):\n",
    "    for i in range(numsuma):\n",
    "        print(caracter * i)\n",
    "    print()\n",
    "\n",
    "    for i in range(numero, 0, -1):\n",
    "        espacio = \" \" * (numero - i)\n",
    "        print(espacio + caracter * i)\n",
    "\n",
    "    for i in range(numsuma):\n",
    "        espacio = \" \" * (numero - i)\n",
    "        print(espacio + caracter * i)\n",
    "    print()\n",
    "\n",
    "    for i in range(numero, 0, -1):\n",
    "        print(caracter * i) \n",
    "\n",
    "\n",
    "if numero<21 and numero>0:\n",
    "    triangulos(numero,caracter)\n",
    "else:\n",
    "    print(\"Debe ingresar un número entre 1 y 20\")\n",
    "\n"
   ]
  },
  {
   "attachments": {},
   "cell_type": "markdown",
   "metadata": {},
   "source": [
    "3. Haga un programa en Python que la fecha de nacimiento de una persona (puede ingresar por\n",
    "separado cada valor, es decir pedir primero día, luego mes y luego año), despliegue la edad\n",
    "de la persona en años, meses y días. Su resultado puede ser aproximado."
   ]
  },
  {
   "cell_type": "code",
   "execution_count": 53,
   "metadata": {},
   "outputs": [
    {
     "name": "stdout",
     "output_type": "stream",
     "text": [
      "24 -23 11\n"
     ]
    }
   ],
   "source": [
    "#No está terminado\n",
    "import datetime\n",
    "\n",
    "Año=int(input(\"Ingrese año de nacimiento\"))\n",
    "Mes=int(input(\"Ingrese en numeros el mes de nacimiento\"))\n",
    "Dia=int(input(\"Ingrese dia de nacimiento\"))\n",
    "hoy = datetime.datetime.now()\n",
    "\n",
    "Años=(hoy.year)-Año\n",
    "Meses=(hoy.month)-Mes\n",
    "Dias=(hoy.day)-Dia\n",
    "\n",
    "print(Años,Meses,Dias)\n"
   ]
  },
  {
   "attachments": {},
   "cell_type": "markdown",
   "metadata": {},
   "source": [
    "4. Escriba una función en Python que dada una tupla de elementos (números o letras) esta se\n",
    "convierta a un string."
   ]
  },
  {
   "cell_type": "code",
   "execution_count": 62,
   "metadata": {},
   "outputs": [
    {
     "name": "stdout",
     "output_type": "stream",
     "text": [
      "12aTrue\n"
     ]
    }
   ],
   "source": [
    "\n",
    "def uniontupla(tupl):\n",
    "    valores=''.join(map(str, tupl))\n",
    "    return valores\n",
    "\n",
    "tupl = (1, 2, \"a\", True)\n",
    "union = uniontupla(tupl)\n",
    "print(union)"
   ]
  },
  {
   "attachments": {},
   "cell_type": "markdown",
   "metadata": {},
   "source": [
    "5. Cree un programa en Python que dada una lista de tuplas, elimine las tuplas que están vacías."
   ]
  },
  {
   "cell_type": "code",
   "execution_count": 67,
   "metadata": {},
   "outputs": [
    {
     "name": "stdout",
     "output_type": "stream",
     "text": [
      "[('X',), ('a', 'b'), ('a', 'b', 'c'), 'd']\n"
     ]
    }
   ],
   "source": [
    "\n",
    "lstuplas = [(), (), ('X',), ('a', 'b'), ('a', 'b', 'c'), ('d')]\n",
    "lista_nueva=[]\n",
    "for x in lstuplas:\n",
    "    if len(x)>=1:\n",
    "        lista_nueva.append(x)\n",
    "\n",
    "print(lista_nueva)"
   ]
  },
  {
   "attachments": {},
   "cell_type": "markdown",
   "metadata": {},
   "source": [
    "6. Cree una función en Python que dada una tupla de tuplas con números, produzca una tupla con el promedio de cada tupla individual."
   ]
  },
  {
   "cell_type": "code",
   "execution_count": 82,
   "metadata": {},
   "outputs": [
    {
     "data": {
      "text/plain": [
       "(10.5, 44.0, 58.0)"
      ]
     },
     "execution_count": 82,
     "metadata": {},
     "output_type": "execute_result"
    }
   ],
   "source": [
    "\n",
    "listatup= ((10, 10, 10, 12), (30, 45, 56, 45), (81, 80, 39, 32))\n",
    "nuevatp=[]\n",
    "\n",
    "def promediotupla(listatup):\n",
    "    for x in listatup:\n",
    "        promedio=sum(x)/len(x)\n",
    "        nuevatp.append(promedio)\n",
    "    return tuple(nuevatp)\n",
    "\n",
    "promediotupla(listatup)"
   ]
  },
  {
   "attachments": {},
   "cell_type": "markdown",
   "metadata": {},
   "source": [
    "7. Escribir un programa que gestione las facturas pendientes de cobro de una empresa. Las facturas se almacenaran en un diccionario donde la llave de cada factura sera el numero de factura (debe utilizar un numero de 4 dıgitos) y el valor el coste de la factura. El programa debe preguntar al usuario si quiere anadir una nueva factura, pagar una existente o terminar. Si desea anadir una nueva factura se preguntara por el numero de factura y su coste y se anadira al diccionario, para confirmar que la factura se ingreso correctamente el programa debe desplegar el diccionario completo. Si se desea pagar una factura se preguntara por el numero de factura y se eliminara del diccionario. Despues de cada operacion el programa debe mostrar en pantalla la cantidad cobrada hasta el momento y la cantidad pendiente de cobro. Puede utilizar otras estructuras de datos como apoyo si lo considera necesario."
   ]
  },
  {
   "cell_type": "code",
   "execution_count": null,
   "metadata": {},
   "outputs": [],
   "source": []
  }
 ],
 "metadata": {
  "kernelspec": {
   "display_name": "base",
   "language": "python",
   "name": "python3"
  },
  "language_info": {
   "codemirror_mode": {
    "name": "ipython",
    "version": 3
   },
   "file_extension": ".py",
   "mimetype": "text/x-python",
   "name": "python",
   "nbconvert_exporter": "python",
   "pygments_lexer": "ipython3",
   "version": "3.9.13"
  },
  "orig_nbformat": 4
 },
 "nbformat": 4,
 "nbformat_minor": 2
}
